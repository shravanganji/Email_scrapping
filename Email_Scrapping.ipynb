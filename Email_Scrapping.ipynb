{
 "cells": [
  {
   "cell_type": "code",
   "execution_count": null,
   "metadata": {},
   "outputs": [],
   "source": [
    "import email, getpass, imaplib, os, re, webbrowser\n",
    "from email.header import decode_header"
   ]
  },
  {
   "cell_type": "code",
   "execution_count": null,
   "metadata": {},
   "outputs": [],
   "source": [
    "user = input(\"Enter your GMail username --> \")\n",
    "pwd = getpass.getpass(\"Enter your password --> \")"
   ]
  },
  {
   "cell_type": "code",
   "execution_count": null,
   "metadata": {},
   "outputs": [],
   "source": [
    "m = imaplib.IMAP4_SSL(\"imap.gmail.com\")\n",
    "m.login(user, pwd)"
   ]
  },
  {
   "cell_type": "code",
   "execution_count": null,
   "metadata": {},
   "outputs": [],
   "source": [
    "status, messages= m.select(\"inbox\")   "
   ]
  },
  {
   "cell_type": "code",
   "execution_count": null,
   "metadata": {},
   "outputs": [],
   "source": [
    "messages=int(messages[0])"
   ]
  },
  {
   "cell_type": "code",
   "execution_count": null,
   "metadata": {},
   "outputs": [],
   "source": [
    "messages"
   ]
  },
  {
   "cell_type": "code",
   "execution_count": null,
   "metadata": {},
   "outputs": [],
   "source": [
    "#total no of recent mails to be retrieved, You can change the number\n",
    "N=10"
   ]
  },
  {
   "cell_type": "code",
   "execution_count": null,
   "metadata": {},
   "outputs": [],
   "source": [
    "result=[]\n",
    "message=[]"
   ]
  },
  {
   "cell_type": "code",
   "execution_count": null,
   "metadata": {},
   "outputs": [],
   "source": [
    "for i in range(messages, messages-N, -1):\n",
    "     \n",
    "    # fetch the email message by ID\n",
    "    res, msg = m.fetch(str(i), \"(RFC822)\")\n",
    "    for response in msg:\n",
    "        if isinstance(response, tuple):\n",
    "            # parse a bytes email into a message object\n",
    "            msg = email.message_from_bytes(response[1])\n",
    "            # decode the email subject\n",
    "            subject = decode_header(msg[\"Subject\"])[0][0]\n",
    "            if isinstance(subject, bytes):\n",
    "                # if it's a bytes, decode to str\n",
    "                subject = subject.decode()\n",
    "            # email sender\n",
    "            from_ = msg.get(\"From\")\n",
    "            #print(\"Subject:\", subject)\n",
    "            #print(\"From:\", from_)\n",
    "            # if the email message is multipart\n",
    "            if msg.is_multipart():\n",
    "                # iterate over email parts\n",
    "                for part in msg.walk():\n",
    "                    # extract content type of email\n",
    "                    content_type = part.get_content_type()\n",
    "                    \n",
    "                    content_disposition = str(part.get(\"Content-Disposition\"))\n",
    "                    try:\n",
    "                        # get the email body\n",
    "                        body = part.get_payload(decode=True).decode()\n",
    "                        \n",
    "                        if re.search('Thank you for applying',body):\n",
    "                            from_email=from_ + 'Job'\n",
    "                            result.append(from_email)\n",
    "                            message.append(body)\n",
    "                            print(from_email)\n",
    "                            print(body)\n",
    "                            \n",
    "                            \n",
    "                    except:\n",
    "                        pass\n",
    "                    \n",
    "            \n",
    "m.close()\n",
    "m.logout()"
   ]
  },
  {
   "cell_type": "code",
   "execution_count": null,
   "metadata": {},
   "outputs": [],
   "source": [
    "# It wil fetch you the mail ids matching the message given\n",
    "result"
   ]
  },
  {
   "cell_type": "code",
   "execution_count": null,
   "metadata": {},
   "outputs": [],
   "source": [
    "# Message received\n",
    "message"
   ]
  },
  {
   "cell_type": "code",
   "execution_count": null,
   "metadata": {},
   "outputs": [],
   "source": [
    "a=[]\n",
    "b=[]\n",
    "c=[]\n",
    "message_email=[]"
   ]
  },
  {
   "cell_type": "code",
   "execution_count": null,
   "metadata": {},
   "outputs": [],
   "source": [
    "for i in result[0::2]:\n",
    "    a.append(str(i).split('>')[0])\n",
    "    b.append(str(i).split('>')[1])"
   ]
  },
  {
   "cell_type": "code",
   "execution_count": null,
   "metadata": {},
   "outputs": [],
   "source": [
    "for i in message[0::2]:\n",
    "    message_email.append(i)"
   ]
  },
  {
   "cell_type": "code",
   "execution_count": null,
   "metadata": {},
   "outputs": [],
   "source": [
    "for i in a:\n",
    "    c.append(str(i).split('<'))"
   ]
  },
  {
   "cell_type": "code",
   "execution_count": null,
   "metadata": {},
   "outputs": [],
   "source": [
    "Name=[]\n",
    "email=[]"
   ]
  },
  {
   "cell_type": "code",
   "execution_count": null,
   "metadata": {},
   "outputs": [],
   "source": [
    "for i in c:\n",
    "    Name.append(i[0])\n",
    "    email.append(i[1])\n",
    "    "
   ]
  },
  {
   "cell_type": "code",
   "execution_count": null,
   "metadata": {},
   "outputs": [],
   "source": [
    "import pandas as pd"
   ]
  },
  {
   "cell_type": "code",
   "execution_count": null,
   "metadata": {},
   "outputs": [],
   "source": [
    "df={'Name':Name,'Email':email,'Message':message_email,'Category':b}"
   ]
  },
  {
   "cell_type": "code",
   "execution_count": null,
   "metadata": {},
   "outputs": [],
   "source": [
    "email_cat=pd.DataFrame(df)"
   ]
  },
  {
   "cell_type": "code",
   "execution_count": null,
   "metadata": {},
   "outputs": [],
   "source": [
    "email_cat"
   ]
  }
 ],
 "metadata": {
  "kernelspec": {
   "display_name": "Python 3",
   "language": "python",
   "name": "python3"
  },
  "language_info": {
   "codemirror_mode": {
    "name": "ipython",
    "version": 3
   },
   "file_extension": ".py",
   "mimetype": "text/x-python",
   "name": "python",
   "nbconvert_exporter": "python",
   "pygments_lexer": "ipython3",
   "version": "3.7.7"
  }
 },
 "nbformat": 4,
 "nbformat_minor": 4
}
